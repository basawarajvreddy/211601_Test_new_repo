{
 "cells": [
  {
   "cell_type": "code",
   "execution_count": 12,
   "metadata": {},
   "outputs": [],
   "source": [
    "# Import all the required libraries\n",
    "\n",
    "import numpy as np \n",
    "import pandas as pd\n",
    "#import matplotlib.pyplot as plt\n",
    "from sklearn.linear_model import LinearRegression\n",
    "from sklearn.model_selection import KFold, cross_val_score\n",
    "from sklearn.preprocessing import StandardScaler\n",
    "from sklearn.pipeline import make_pipeline\n",
    "from sklearn.linear_model import RidgeCV\n",
    "from sklearn.linear_model import LassoCV\n",
    "from sklearn.linear_model import ElasticNetCV\n",
    "from lightgbm import LGBMRegressor\n",
    "import os\n",
    "from time import time"
   ]
  },
  {
   "cell_type": "code",
   "execution_count": 2,
   "metadata": {},
   "outputs": [],
   "source": [
    "# Loading the input excel files using pandas\n",
    "\n",
    "train_df =  pd.read_excel('Data_Train.xlsx')\n",
    "test_df=pd.read_excel('Test_set.xlsx')\n",
    "big_df = train_df.append(test_df)"
   ]
  },
  {
   "cell_type": "code",
   "execution_count": 3,
   "metadata": {},
   "outputs": [],
   "source": [
    "# Cleaning the data using the data preprocessing\n",
    "\n",
    "big_df['Date'] = big_df['Date_of_Journey'].str.split('/').str[0].astype(int)\n",
    "big_df['Month'] = big_df['Date_of_Journey'].str.split('/').str[1].astype(int)\n",
    "big_df['Year'] = big_df['Date_of_Journey'].str.split('/').str[2].astype(int)\n",
    "\n",
    "big_df=big_df.drop(['Date_of_Journey'], axis = 1)"
   ]
  },
  {
   "cell_type": "code",
   "execution_count": 4,
   "metadata": {},
   "outputs": [],
   "source": [
    "big_df['Arrival_Time'] = big_df['Arrival_Time'] .str.split(' ').str[0]\n",
    "big_df['Arrival_Hour'] = big_df['Arrival_Time'] .str.split(':').str[0].astype(int)\n",
    "big_df['Arrival_Minute'] = big_df['Arrival_Time'] .str.split(':').str[1].astype(int)\n",
    "\n",
    "big_df=big_df.drop(['Arrival_Time'], axis=1)"
   ]
  },
  {
   "cell_type": "code",
   "execution_count": 5,
   "metadata": {},
   "outputs": [],
   "source": [
    "big_df['Dep_Hour'] = big_df['Dep_Time'] .str.split(':').str[0].astype(int)\n",
    "big_df['Dep_Minute'] = big_df['Dep_Time'] .str.split(':').str[1].astype(int)\n",
    "\n",
    "big_df=big_df.drop(['Dep_Time'], axis=1)"
   ]
  },
  {
   "cell_type": "code",
   "execution_count": 6,
   "metadata": {},
   "outputs": [],
   "source": [
    "big_df['Total_Stops']=big_df['Total_Stops'].fillna('1 stop')\n",
    "big_df['Total_Stops']=big_df['Total_Stops'].replace('non-stop','0 stop')\n",
    "big_df['Stop'] = big_df['Total_Stops'].str.split(' ').str[0].astype(int)\n",
    "\n",
    "big_df=big_df.drop(['Total_Stops'], axis=1)"
   ]
  },
  {
   "cell_type": "code",
   "execution_count": 7,
   "metadata": {},
   "outputs": [],
   "source": [
    "big_df['Route_1'] = big_df['Route'] .str.split('→ ').str[0]\n",
    "big_df['Route_2'] = big_df['Route'] .str.split('→ ').str[1]\n",
    "big_df['Route_3'] = big_df['Route'] .str.split('→ ').str[2]\n",
    "big_df['Route_4'] = big_df['Route'] .str.split('→ ').str[3]\n",
    "big_df['Route_5'] = big_df['Route'] .str.split('→ ').str[4]\n",
    "\n",
    "big_df['Route_1'].fillna(\"None\",inplace = True)\n",
    "big_df['Route_2'].fillna(\"None\",inplace = True)\n",
    "big_df['Route_3'].fillna(\"None\",inplace = True)\n",
    "big_df['Route_4'].fillna(\"None\",inplace = True)\n",
    "big_df['Route_5'].fillna(\"None\",inplace = True)"
   ]
  },
  {
   "cell_type": "code",
   "execution_count": 8,
   "metadata": {},
   "outputs": [],
   "source": [
    "big_df['Price'].fillna((big_df['Price'].mean()), inplace=True)\n",
    "\n",
    "big_df=big_df.drop(['Route'], axis=1)\n",
    "big_df=big_df.drop(['Duration'], axis=1)"
   ]
  },
  {
   "cell_type": "code",
   "execution_count": 9,
   "metadata": {},
   "outputs": [],
   "source": [
    "#Enconding the categorical data using Label Encoder\n",
    "\n",
    "from sklearn.preprocessing import LabelEncoder\n",
    "\n",
    "lb_encode = LabelEncoder()\n",
    "big_df[\"Additional_Info\"] = lb_encode.fit_transform(big_df[\"Additional_Info\"])\n",
    "big_df[\"Airline\"] = lb_encode.fit_transform(big_df[\"Airline\"])\n",
    "big_df[\"Destination\"] = lb_encode.fit_transform(big_df[\"Destination\"])\n",
    "big_df[\"Source\"] = lb_encode.fit_transform(big_df[\"Source\"])\n",
    "big_df['Route_1']= lb_encode.fit_transform(big_df[\"Route_1\"])\n",
    "big_df['Route_2']= lb_encode.fit_transform(big_df[\"Route_2\"])\n",
    "big_df['Route_3']= lb_encode.fit_transform(big_df[\"Route_3\"])\n",
    "big_df['Route_4']= lb_encode.fit_transform(big_df[\"Route_4\"])\n",
    "big_df['Route_5']= lb_encode.fit_transform(big_df[\"Route_5\"])"
   ]
  },
  {
   "cell_type": "code",
   "execution_count": 10,
   "metadata": {},
   "outputs": [],
   "source": [
    "#splitting the data to train and test data\n",
    "\n",
    "df_train = big_df[0:10683]\n",
    "df_test = big_df[10683:]\n",
    "df_test = df_test.drop(['Price'], axis =1)\n",
    "\n",
    "X = df_train.drop(['Price'], axis=1)\n",
    "y = df_train.Price\n",
    "\n",
    "from sklearn.model_selection import train_test_split\n",
    "X_train, X_test, y_train, y_test = train_test_split(X, y, test_size=0.3, random_state=123)"
   ]
  },
  {
   "cell_type": "code",
   "execution_count": 17,
   "metadata": {},
   "outputs": [
    {
     "data": {
      "text/html": [
       "<div>\n",
       "<style scoped>\n",
       "    .dataframe tbody tr th:only-of-type {\n",
       "        vertical-align: middle;\n",
       "    }\n",
       "\n",
       "    .dataframe tbody tr th {\n",
       "        vertical-align: top;\n",
       "    }\n",
       "\n",
       "    .dataframe thead th {\n",
       "        text-align: right;\n",
       "    }\n",
       "</style>\n",
       "<table border=\"1\" class=\"dataframe\">\n",
       "  <thead>\n",
       "    <tr style=\"text-align: right;\">\n",
       "      <th></th>\n",
       "      <th>Airline</th>\n",
       "      <th>Source</th>\n",
       "      <th>Destination</th>\n",
       "      <th>Additional_Info</th>\n",
       "      <th>Date</th>\n",
       "      <th>Month</th>\n",
       "      <th>Year</th>\n",
       "      <th>Arrival_Hour</th>\n",
       "      <th>Arrival_Minute</th>\n",
       "      <th>Dep_Hour</th>\n",
       "      <th>Dep_Minute</th>\n",
       "      <th>Stop</th>\n",
       "      <th>Route_1</th>\n",
       "      <th>Route_2</th>\n",
       "      <th>Route_3</th>\n",
       "      <th>Route_4</th>\n",
       "      <th>Route_5</th>\n",
       "    </tr>\n",
       "  </thead>\n",
       "  <tbody>\n",
       "    <tr>\n",
       "      <th>0</th>\n",
       "      <td>4</td>\n",
       "      <td>2</td>\n",
       "      <td>1</td>\n",
       "      <td>8</td>\n",
       "      <td>6</td>\n",
       "      <td>6</td>\n",
       "      <td>2019</td>\n",
       "      <td>4</td>\n",
       "      <td>25</td>\n",
       "      <td>17</td>\n",
       "      <td>30</td>\n",
       "      <td>1</td>\n",
       "      <td>3</td>\n",
       "      <td>7</td>\n",
       "      <td>6</td>\n",
       "      <td>12</td>\n",
       "      <td>4</td>\n",
       "    </tr>\n",
       "    <tr>\n",
       "      <th>1</th>\n",
       "      <td>3</td>\n",
       "      <td>3</td>\n",
       "      <td>0</td>\n",
       "      <td>8</td>\n",
       "      <td>12</td>\n",
       "      <td>5</td>\n",
       "      <td>2019</td>\n",
       "      <td>10</td>\n",
       "      <td>20</td>\n",
       "      <td>6</td>\n",
       "      <td>20</td>\n",
       "      <td>1</td>\n",
       "      <td>2</td>\n",
       "      <td>33</td>\n",
       "      <td>3</td>\n",
       "      <td>12</td>\n",
       "      <td>4</td>\n",
       "    </tr>\n",
       "    <tr>\n",
       "      <th>2</th>\n",
       "      <td>4</td>\n",
       "      <td>2</td>\n",
       "      <td>1</td>\n",
       "      <td>5</td>\n",
       "      <td>21</td>\n",
       "      <td>5</td>\n",
       "      <td>2019</td>\n",
       "      <td>19</td>\n",
       "      <td>0</td>\n",
       "      <td>19</td>\n",
       "      <td>15</td>\n",
       "      <td>1</td>\n",
       "      <td>3</td>\n",
       "      <td>7</td>\n",
       "      <td>6</td>\n",
       "      <td>12</td>\n",
       "      <td>4</td>\n",
       "    </tr>\n",
       "    <tr>\n",
       "      <th>3</th>\n",
       "      <td>6</td>\n",
       "      <td>2</td>\n",
       "      <td>1</td>\n",
       "      <td>8</td>\n",
       "      <td>21</td>\n",
       "      <td>5</td>\n",
       "      <td>2019</td>\n",
       "      <td>21</td>\n",
       "      <td>0</td>\n",
       "      <td>8</td>\n",
       "      <td>0</td>\n",
       "      <td>1</td>\n",
       "      <td>3</td>\n",
       "      <td>7</td>\n",
       "      <td>6</td>\n",
       "      <td>12</td>\n",
       "      <td>4</td>\n",
       "    </tr>\n",
       "    <tr>\n",
       "      <th>4</th>\n",
       "      <td>0</td>\n",
       "      <td>0</td>\n",
       "      <td>2</td>\n",
       "      <td>8</td>\n",
       "      <td>24</td>\n",
       "      <td>6</td>\n",
       "      <td>2019</td>\n",
       "      <td>2</td>\n",
       "      <td>45</td>\n",
       "      <td>23</td>\n",
       "      <td>55</td>\n",
       "      <td>0</td>\n",
       "      <td>0</td>\n",
       "      <td>13</td>\n",
       "      <td>24</td>\n",
       "      <td>12</td>\n",
       "      <td>4</td>\n",
       "    </tr>\n",
       "    <tr>\n",
       "      <th>...</th>\n",
       "      <td>...</td>\n",
       "      <td>...</td>\n",
       "      <td>...</td>\n",
       "      <td>...</td>\n",
       "      <td>...</td>\n",
       "      <td>...</td>\n",
       "      <td>...</td>\n",
       "      <td>...</td>\n",
       "      <td>...</td>\n",
       "      <td>...</td>\n",
       "      <td>...</td>\n",
       "      <td>...</td>\n",
       "      <td>...</td>\n",
       "      <td>...</td>\n",
       "      <td>...</td>\n",
       "      <td>...</td>\n",
       "      <td>...</td>\n",
       "    </tr>\n",
       "    <tr>\n",
       "      <th>2666</th>\n",
       "      <td>1</td>\n",
       "      <td>3</td>\n",
       "      <td>0</td>\n",
       "      <td>8</td>\n",
       "      <td>6</td>\n",
       "      <td>6</td>\n",
       "      <td>2019</td>\n",
       "      <td>20</td>\n",
       "      <td>25</td>\n",
       "      <td>20</td>\n",
       "      <td>30</td>\n",
       "      <td>1</td>\n",
       "      <td>2</td>\n",
       "      <td>14</td>\n",
       "      <td>3</td>\n",
       "      <td>12</td>\n",
       "      <td>4</td>\n",
       "    </tr>\n",
       "    <tr>\n",
       "      <th>2667</th>\n",
       "      <td>3</td>\n",
       "      <td>3</td>\n",
       "      <td>0</td>\n",
       "      <td>8</td>\n",
       "      <td>27</td>\n",
       "      <td>3</td>\n",
       "      <td>2019</td>\n",
       "      <td>16</td>\n",
       "      <td>55</td>\n",
       "      <td>14</td>\n",
       "      <td>20</td>\n",
       "      <td>0</td>\n",
       "      <td>2</td>\n",
       "      <td>5</td>\n",
       "      <td>24</td>\n",
       "      <td>12</td>\n",
       "      <td>4</td>\n",
       "    </tr>\n",
       "    <tr>\n",
       "      <th>2668</th>\n",
       "      <td>4</td>\n",
       "      <td>2</td>\n",
       "      <td>1</td>\n",
       "      <td>8</td>\n",
       "      <td>6</td>\n",
       "      <td>3</td>\n",
       "      <td>2019</td>\n",
       "      <td>4</td>\n",
       "      <td>25</td>\n",
       "      <td>21</td>\n",
       "      <td>50</td>\n",
       "      <td>1</td>\n",
       "      <td>3</td>\n",
       "      <td>7</td>\n",
       "      <td>6</td>\n",
       "      <td>12</td>\n",
       "      <td>4</td>\n",
       "    </tr>\n",
       "    <tr>\n",
       "      <th>2669</th>\n",
       "      <td>1</td>\n",
       "      <td>2</td>\n",
       "      <td>1</td>\n",
       "      <td>8</td>\n",
       "      <td>6</td>\n",
       "      <td>3</td>\n",
       "      <td>2019</td>\n",
       "      <td>19</td>\n",
       "      <td>15</td>\n",
       "      <td>4</td>\n",
       "      <td>0</td>\n",
       "      <td>1</td>\n",
       "      <td>3</td>\n",
       "      <td>7</td>\n",
       "      <td>6</td>\n",
       "      <td>12</td>\n",
       "      <td>4</td>\n",
       "    </tr>\n",
       "    <tr>\n",
       "      <th>2670</th>\n",
       "      <td>6</td>\n",
       "      <td>2</td>\n",
       "      <td>1</td>\n",
       "      <td>8</td>\n",
       "      <td>15</td>\n",
       "      <td>6</td>\n",
       "      <td>2019</td>\n",
       "      <td>19</td>\n",
       "      <td>15</td>\n",
       "      <td>4</td>\n",
       "      <td>55</td>\n",
       "      <td>1</td>\n",
       "      <td>3</td>\n",
       "      <td>7</td>\n",
       "      <td>6</td>\n",
       "      <td>12</td>\n",
       "      <td>4</td>\n",
       "    </tr>\n",
       "  </tbody>\n",
       "</table>\n",
       "<p>2671 rows × 17 columns</p>\n",
       "</div>"
      ],
      "text/plain": [
       "      Airline  Source  Destination  Additional_Info  Date  Month  Year  \\\n",
       "0           4       2            1                8     6      6  2019   \n",
       "1           3       3            0                8    12      5  2019   \n",
       "2           4       2            1                5    21      5  2019   \n",
       "3           6       2            1                8    21      5  2019   \n",
       "4           0       0            2                8    24      6  2019   \n",
       "...       ...     ...          ...              ...   ...    ...   ...   \n",
       "2666        1       3            0                8     6      6  2019   \n",
       "2667        3       3            0                8    27      3  2019   \n",
       "2668        4       2            1                8     6      3  2019   \n",
       "2669        1       2            1                8     6      3  2019   \n",
       "2670        6       2            1                8    15      6  2019   \n",
       "\n",
       "      Arrival_Hour  Arrival_Minute  Dep_Hour  Dep_Minute  Stop  Route_1  \\\n",
       "0                4              25        17          30     1        3   \n",
       "1               10              20         6          20     1        2   \n",
       "2               19               0        19          15     1        3   \n",
       "3               21               0         8           0     1        3   \n",
       "4                2              45        23          55     0        0   \n",
       "...            ...             ...       ...         ...   ...      ...   \n",
       "2666            20              25        20          30     1        2   \n",
       "2667            16              55        14          20     0        2   \n",
       "2668             4              25        21          50     1        3   \n",
       "2669            19              15         4           0     1        3   \n",
       "2670            19              15         4          55     1        3   \n",
       "\n",
       "      Route_2  Route_3  Route_4  Route_5  \n",
       "0           7        6       12        4  \n",
       "1          33        3       12        4  \n",
       "2           7        6       12        4  \n",
       "3           7        6       12        4  \n",
       "4          13       24       12        4  \n",
       "...       ...      ...      ...      ...  \n",
       "2666       14        3       12        4  \n",
       "2667        5       24       12        4  \n",
       "2668        7        6       12        4  \n",
       "2669        7        6       12        4  \n",
       "2670        7        6       12        4  \n",
       "\n",
       "[2671 rows x 17 columns]"
      ]
     },
     "execution_count": 17,
     "metadata": {},
     "output_type": "execute_result"
    }
   ],
   "source": [
    "df_test"
   ]
  },
  {
   "cell_type": "code",
   "execution_count": 32,
   "metadata": {},
   "outputs": [
    {
     "name": "stdout",
     "output_type": "stream",
     "text": [
      "The rmse value is: 3238.090389193024\n",
      "Time taken to run the model 124.92794418334961 seconds\n"
     ]
    }
   ],
   "source": [
    "lm = LinearRegression()\n",
    "kfolds = KFold(n_splits=50,shuffle=True, random_state=100)\n",
    "def cv_rmse(model):\n",
    "    rmse = np.sqrt(-cross_val_score(model, X_train, y_train, \n",
    "                                   scoring=\"neg_mean_squared_error\", \n",
    "                                   cv = kfolds))\n",
    "    return(rmse)\n",
    "\n",
    "\n",
    "t1 = time()\n",
    "benchmark_model = make_pipeline(StandardScaler(),lm).fit(X_train, y_train)\n",
    "cv_rmse(benchmark_model).mean()\n",
    "\n",
    "print(f'The rmse value is: {cv_rmse(ridge_model).mean()}')\n",
    "t2 = time()\n",
    "print(f'Time taken to run the model {t2 - t1} seconds')"
   ]
  },
  {
   "cell_type": "code",
   "execution_count": 25,
   "metadata": {},
   "outputs": [
    {
     "name": "stdout",
     "output_type": "stream",
     "text": [
      "The rmse value is: 3238.090389193024\n",
      "Time taken to run the model 120.80717039108276 seconds\n"
     ]
    }
   ],
   "source": [
    "t1 = time()\n",
    "alphas_ridge = [20, 25, 27.5, 28.5, 29, 29.5, 30, 32.5, 35, 37.5, 40]\n",
    "\n",
    "ridge = make_pipeline(StandardScaler(),\n",
    "                            RidgeCV(alphas = alphas_ridge,\n",
    "                                    cv=kfolds))\n",
    "ridge_model =ridge.fit(X_train, y_train)\n",
    "\n",
    "print(f'The rmse value is: {cv_rmse(ridge_model).mean()}')\n",
    "t2 = time()\n",
    "print(f'Time taken to run the model {t2 - t1} seconds')"
   ]
  },
  {
   "cell_type": "code",
   "execution_count": 24,
   "metadata": {},
   "outputs": [
    {
     "name": "stdout",
     "output_type": "stream",
     "text": [
      "The rmse value is: 3238.229061371743\n",
      "Time taken to run the model 5.903466463088989 seconds\n"
     ]
    }
   ],
   "source": [
    "t1 = time()\n",
    "alphas_lasso = [0.00005, 0.0001, 0.0002, 0.0003, 0.0004, 0.0005,\n",
    "           0.0006, 0.0007, 0.0008]\n",
    "\n",
    "lasso = make_pipeline(StandardScaler(),\n",
    "                             LassoCV(max_iter=1e7,\n",
    "                                    alphas = alphas_lasso,\n",
    "                                    random_state = 42))\n",
    "\n",
    "lasso_model = lasso.fit(X_train, y_train)\n",
    "\n",
    "print(f'The rmse value is: {cv_rmse(lasso_model).mean()}')\n",
    "t2 = time()\n",
    "print(f'Time taken to run the model {t2 - t1} seconds')"
   ]
  },
  {
   "cell_type": "code",
   "execution_count": 21,
   "metadata": {},
   "outputs": [
    {
     "name": "stdout",
     "output_type": "stream",
     "text": [
      "The rmse value is: 3238.20048894392\n",
      "Time taken to run the model 22.84486675262451 seconds\n"
     ]
    }
   ],
   "source": [
    "t1 = time()\n",
    "e_alphas = [0.0001, 0.0002, 0.0003, 0.0004, 0.0005, 0.0006, 0.0007]\n",
    "\n",
    "elasticnet = make_pipeline(StandardScaler(), \n",
    "                           ElasticNetCV(max_iter=10000, alphas=e_alphas, \n",
    "                                        cv=kfolds))\n",
    "elasticnet_model = elasticnet.fit(X_train, y_train)\n",
    "print(f'The rmse value is: {cv_rmse(elasticnet_model).mean()}')\n",
    "\n",
    "t2 = time()\n",
    "print(f'Time taken to run the model {t2 - t1} seconds')"
   ]
  },
  {
   "cell_type": "code",
   "execution_count": 29,
   "metadata": {},
   "outputs": [
    {
     "name": "stdout",
     "output_type": "stream",
     "text": [
      "The rmse value is: 1506.512774540475\n",
      "Time taken to run the model 82.72026991844177 seconds\n"
     ]
    }
   ],
   "source": [
    "from xgboost import XGBRegressor\n",
    "\n",
    "t1 = time()\n",
    "xgb = XGBRegressor(learning_rate =0.1, n_estimators=200, max_depth=10)\n",
    "\n",
    "\n",
    "xgb_model = make_pipeline(StandardScaler(),xgb).fit(X_train, y_train)\n",
    "\n",
    "print(f'The rmse value is: {cv_rmse(xgb_model).mean()}')\n",
    "\n",
    "t2 = time()\n",
    "print(f'Time taken to run the model {t2 - t1} seconds')"
   ]
  },
  {
   "cell_type": "code",
   "execution_count": 30,
   "metadata": {},
   "outputs": [
    {
     "name": "stdout",
     "output_type": "stream",
     "text": [
      "The rmse value is: 1471.8798061823636\n",
      "Time taken to run the model 15.85589599609375 seconds\n"
     ]
    }
   ],
   "source": [
    "from lightgbm import LGBMRegressor\n",
    "\n",
    "t1 = time()\n",
    "lgbm = LGBMRegressor(objective='regression',num_leaves=31,\n",
    "                              learning_rate=0.1, n_estimators=200)\n",
    "lgbm_model = make_pipeline(StandardScaler(),lgbm).fit(X=X_train, y=y_train)\n",
    "\n",
    "print(f'The rmse value is: {cv_rmse(lgbm_model).mean()}')\n",
    "\n",
    "t2 = time()\n",
    "print(f'Time taken to run the model {t2 - t1} seconds') "
   ]
  },
  {
   "cell_type": "code",
   "execution_count": 31,
   "metadata": {},
   "outputs": [
    {
     "name": "stdout",
     "output_type": "stream",
     "text": [
      "The rmse value is: 1619.1892907867307\n",
      "Time taken to run the model 1326.2168107032776 seconds\n"
     ]
    }
   ],
   "source": [
    "from mlxtend.regressor import StackingCVRegressor\n",
    "from sklearn.pipeline import make_pipeline\n",
    "\n",
    "#stack\n",
    "\n",
    "t1 = time()\n",
    "stack_gen = StackingCVRegressor(regressors=(ridge, lasso, elasticnet, \n",
    "                                            xgb, lgbm), \n",
    "                               meta_regressor=xgb)\n",
    "\n",
    "stack_gen_model = make_pipeline(StandardScaler(),stack_gen).fit(X_train, y_train)\n",
    "\n",
    "\n",
    "print(f'The rmse value is: {cv_rmse(stack_gen_model).mean()}')\n",
    "\n",
    "t2 = time()\n",
    "print(f'Time taken to run the model {t2 - t1} seconds')"
   ]
  },
  {
   "cell_type": "code",
   "execution_count": 33,
   "metadata": {},
   "outputs": [],
   "source": [
    "benchmark_preds = benchmark_model.predict(X_test)\n",
    "ridge_preds = ridge_model.predict(X_test)\n",
    "lasso_preds = lasso_model.predict(X_test)\n",
    "elastic_preds = elasticnet_model.predict(X_test)\n",
    "\n",
    "xgb_preds = xgb_model.predict(X_test)\n",
    "lgbm_preds = lgbm_model.predict(X_test)\n",
    "stack_preds = stack_gen_model.predict(X_test)"
   ]
  },
  {
   "cell_type": "code",
   "execution_count": 55,
   "metadata": {},
   "outputs": [
    {
     "name": "stdout",
     "output_type": "stream",
     "text": [
      "rmse : 3228.7471774901055 and 0.4834156699537322\n",
      "rmse : 3228.756501067724 and 0.4834126864924778\n",
      "rmse : 3228.7470862652563 and 0.4834156991448235\n",
      "rmse : 3228.736671916637 and 0.48341903163273914\n",
      "rmse : 1549.2567557055822 and 0.8810621875799216\n",
      "rmse : 1400.585423269352 and 0.9027941609453528\n",
      "rmse : 1521.84423812757 and 0.885233917372131\n"
     ]
    }
   ],
   "source": [
    "from sklearn.metrics import mean_squared_error, r2_score\n",
    "\n",
    "for preds in [benchmark_preds, ridge_preds, lasso_preds, elastic_preds, xgb_preds, lgbm_preds,stack_preds]:\n",
    "    rmse = np.sqrt(mean_squared_error(y_test, preds))\n",
    "    r2score = r2_score(y_test, preds)\n",
    "    #evaluvation = np.sqrt(np.square(np.log10(preds+1) - np.log10(y_test+1)).mean())\n",
    "    print(f'rmse : {rmse} and {r2score}')"
   ]
  },
  {
   "cell_type": "code",
   "execution_count": 50,
   "metadata": {},
   "outputs": [
    {
     "data": {
      "text/plain": [
       "array([[ 3597.        ,  4036.31867119,  4089.29241324,  4036.32439455,\n",
       "         4040.19699654,  3601.89428711,  3745.1572884 ,  3677.95678711],\n",
       "       [ 3383.        ,  6042.10890558,  6057.0739608 ,  6042.10755275,\n",
       "         6043.12292331,  3771.77368164,  3729.24086985,  3863.20727539],\n",
       "       [ 2050.        ,  3458.56415449,  3494.60425291,  3458.57116106,\n",
       "         3461.17984662,  2477.27905273,  2665.42023076,  2579.97412109],\n",
       "       [ 4423.        ,  4602.81080011,  4610.79179376,  4602.80942448,\n",
       "         4603.29004764,  4014.59399414,  4316.18568524,  3932.59106445],\n",
       "       [ 3597.        ,  6384.11136002,  6438.1992012 ,  6384.11751368,\n",
       "         6388.17176746,  3743.88793945,  4185.57874298,  3902.58544922],\n",
       "       [10844.        ,  9765.20462016,  9770.01237205,  9765.20721513,\n",
       "         9765.62333024,  9595.70019531, 10107.89477426,  9992.90625   ],\n",
       "       [13227.        , 12810.62778426, 12817.13566067, 12810.62999611,\n",
       "        12811.24124555, 13184.546875  , 14249.09468452, 14104.79980469],\n",
       "       [ 3100.        ,  2948.47496669,  2968.66951995,  2948.47892235,\n",
       "         2949.88626169,  3250.95556641,  3176.02791495,  3149.27050781]])"
      ]
     },
     "execution_count": 50,
     "metadata": {},
     "output_type": "execute_result"
    }
   ],
   "source": [
    "pred_price = np.concatenate((y_test.values.reshape(3205,1), benchmark_preds.reshape(3205,1), ridge_preds.reshape(3205,1),\n",
    "                     lasso_preds.reshape(3205,1), elastic_preds.reshape(3205,1), \n",
    "                             xgb_preds.reshape(3205,1), lgbm_preds.reshape(3205,1), \n",
    "                     stack_preds.reshape(3205,1)),1)\n",
    "pred_price[:8]"
   ]
  },
  {
   "cell_type": "code",
   "execution_count": 51,
   "metadata": {},
   "outputs": [],
   "source": [
    "i =1\n",
    "for model in [benchmark_model, ridge_model, lasso_model, elasticnet_model, xgb_model, lgbm_model,stack_gen_model]:\n",
    "    test_df_excel = test_df.copy()\n",
    "    preds_1 = model.predict(df_test)\n",
    "    test_df_excel['Price'] = preds_1\n",
    "    if os.path.exists('flight_fare.xlsx'):\n",
    "        with pd.ExcelWriter('flight_fare.xlsx', engine=\"openpyxl\", mode = 'a') as writer:\n",
    "            test_df_excel.to_excel(writer, sheet_name = 'flight_price_' + str(i))\n",
    "            i+=1\n",
    "    else:\n",
    "        test_df_excel.to_excel('flight_fare.xlsx', sheet_name = 'flight_price_' + str(i))\n",
    "        i+=1"
   ]
  },
  {
   "cell_type": "code",
   "execution_count": null,
   "metadata": {},
   "outputs": [],
   "source": []
  }
 ],
 "metadata": {
  "kernelspec": {
   "display_name": "Python 3",
   "language": "python",
   "name": "python3"
  },
  "language_info": {
   "codemirror_mode": {
    "name": "ipython",
    "version": 3
   },
   "file_extension": ".py",
   "mimetype": "text/x-python",
   "name": "python",
   "nbconvert_exporter": "python",
   "pygments_lexer": "ipython3",
   "version": "3.8.3"
  }
 },
 "nbformat": 4,
 "nbformat_minor": 4
}
